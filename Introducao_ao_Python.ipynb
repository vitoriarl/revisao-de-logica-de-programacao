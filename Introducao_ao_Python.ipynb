{
  "nbformat": 4,
  "nbformat_minor": 0,
  "metadata": {
    "colab": {
      "name": "Introducao-ao-Python.ipynb",
      "provenance": [],
      "collapsed_sections": []
    },
    "kernelspec": {
      "name": "python3",
      "display_name": "Python 3"
    },
    "language_info": {
      "name": "python"
    }
  },
  "cells": [
    {
      "cell_type": "code",
      "execution_count": null,
      "metadata": {
        "id": "5O3yTxItT498"
      },
      "outputs": [],
      "source": [
        "# Revisando estrutura básica do Python e Lógica de Programação\n"
      ]
    },
    {
      "cell_type": "code",
      "source": [
        "# Operações básicas\n",
        "print(5 + 1)\n",
        "print(5 * 1)\n",
        "print(5 - 1)\n",
        "print(5 / 1)\n",
        "print(5 % 1)\n",
        "print(5 ** 1) #exponenciação"
      ],
      "metadata": {
        "colab": {
          "base_uri": "https://localhost:8080/"
        },
        "id": "IceuZQrmXcAv",
        "outputId": "9f6990bd-961b-4fa0-d471-ebce61a7f3d9"
      },
      "execution_count": 3,
      "outputs": [
        {
          "output_type": "stream",
          "name": "stdout",
          "text": [
            "6\n",
            "5\n",
            "4\n",
            "5.0\n",
            "0\n",
            "5\n"
          ]
        }
      ]
    },
    {
      "cell_type": "code",
      "source": [
        "x = 5 # variável recebe 5. receber se chama assigment em inglês"
      ],
      "metadata": {
        "id": "mAS87zfmYJn6"
      },
      "execution_count": 4,
      "outputs": []
    },
    {
      "cell_type": "code",
      "source": [
        "type(x) # diz qual o tipo de variável"
      ],
      "metadata": {
        "colab": {
          "base_uri": "https://localhost:8080/"
        },
        "id": "q0oc8vZhZeDR",
        "outputId": "e7f22ed0-4d75-41ee-a8d8-73b7682e1363"
      },
      "execution_count": 5,
      "outputs": [
        {
          "output_type": "execute_result",
          "data": {
            "text/plain": [
              "int"
            ]
          },
          "metadata": {},
          "execution_count": 5
        }
      ]
    },
    {
      "cell_type": "code",
      "source": [
        "texto = \"olá \"\n",
        "print(texto + texto) #basicamente somando textos (?)"
      ],
      "metadata": {
        "colab": {
          "base_uri": "https://localhost:8080/"
        },
        "id": "3P9I0l7FalCF",
        "outputId": "78a80218-5ac5-4034-88dc-ad732dd73872"
      },
      "execution_count": 7,
      "outputs": [
        {
          "output_type": "stream",
          "name": "stdout",
          "text": [
            "olá olá \n"
          ]
        }
      ]
    },
    {
      "cell_type": "markdown",
      "source": [
        "**Resolução de problemas propostos no vídeo Curso Lógica de Programação Completo 2021 [Iniciantes] + Desafios + Muita prática (https://www.youtube.com/watch?v=iF2MdbrTiBM)**"
      ],
      "metadata": {
        "id": "uk7oc0aF5dM4"
      }
    },
    {
      "cell_type": "code",
      "source": [
        "# Acertar o número sorteado\n",
        "import random\n",
        "\n",
        "i = random.randint(1, 10); #http://curso.grupysanca.com.br/pt/latest/input.html\n",
        "\n",
        "j = int(input(\"Digite o valor que você acha que foi sorteado: \"))\n",
        "\n",
        "while(j != i):\n",
        "  if (j > i):\n",
        "    print(\"O número que você digitou é maior que o número sorteado.\")\n",
        "  elif(j < i):\n",
        "    print(\"O número que você digitou é menor que o número sorteado\")\n",
        "  j = int(input(\"Digite o valor que você acha que foi sorteado: \"))\n",
        "\n",
        "if(j == i):\n",
        "  print(\"PARABÉNS! Você acertou o número!\")\n",
        "\n",
        "\n",
        "    \n"
      ],
      "metadata": {
        "id": "vYZe6PBLnqN3",
        "colab": {
          "base_uri": "https://localhost:8080/"
        },
        "outputId": "19f3cb0d-3992-400f-e644-c1d3324d878a"
      },
      "execution_count": 8,
      "outputs": [
        {
          "output_type": "stream",
          "name": "stdout",
          "text": [
            "Digite o valor que você acha que foi sorteado: 4\n",
            "O número que você digitou é menor que o número sorteado\n",
            "Digite o valor que você acha que foi sorteado: 6\n",
            "O número que você digitou é menor que o número sorteado\n",
            "Digite o valor que você acha que foi sorteado: 8\n",
            "O número que você digitou é menor que o número sorteado\n",
            "Digite o valor que você acha que foi sorteado: 10\n",
            "O número que você digitou é maior que o número sorteado.\n",
            "Digite o valor que você acha que foi sorteado: 9\n",
            "PARABÉNS! Você acertou o número!\n"
          ]
        }
      ]
    },
    {
      "cell_type": "code",
      "source": [
        "# Outra forma de fazer o mesmo código acima\n",
        "import random\n",
        "i = random.randint(1, 10); #http://curso.grupysanca.com.br/pt/latest/input.html\n",
        "acertou = False\n",
        "while(acertou == False):\n",
        "  j = int(input(\"Digite o valor que você acha que foi sorteado (de 1 à 10): \"))\n",
        "  if (j > i):\n",
        "    print(\"O número que você digitou é maior que o número sorteado.\")\n",
        "  elif(j < i):\n",
        "    print(\"O número que você digitou é menor que o número sorteado\")\n",
        "  elif(j == i):\n",
        "    print(\"PARABÉNS! Você acertou o número!\")\n",
        "    acertou = True\n",
        "  else:\n",
        "    print(\"Você chutou um valor errado!\")\n"
      ],
      "metadata": {
        "colab": {
          "base_uri": "https://localhost:8080/"
        },
        "id": "g9-X2JQvLQQc",
        "outputId": "fc8556f2-3429-4b32-fd6a-c0f1eee9e1a3"
      },
      "execution_count": 9,
      "outputs": [
        {
          "output_type": "stream",
          "name": "stdout",
          "text": [
            "Digite o valor que você acha que foi sorteado (de 1 à 10): 10\n",
            "O número que você digitou é maior que o número sorteado.\n",
            "Digite o valor que você acha que foi sorteado (de 1 à 10): 5\n",
            "PARABÉNS! Você acertou o número!\n"
          ]
        }
      ]
    },
    {
      "cell_type": "code",
      "source": [
        "# Calcular o fatorial de um número\n",
        "y = numero = int(input(\"Digite o número: \"))\n",
        "\n",
        "if(numero > -1):\n",
        "  while(numero > 1):\n",
        "    y = y * (numero - 1)\n",
        "    numero = numero - 1\n",
        "  print(\"O fatorial é \" + str(y))\n",
        "else:\n",
        "  print(\"O número deve ser positivo!\")\n",
        "\n"
      ],
      "metadata": {
        "colab": {
          "base_uri": "https://localhost:8080/"
        },
        "id": "mW4O6YkLGDtZ",
        "outputId": "800b1d4b-edd1-4725-deb9-f6354a16f70d"
      },
      "execution_count": 10,
      "outputs": [
        {
          "output_type": "stream",
          "name": "stdout",
          "text": [
            "Digite o número: 4\n",
            "O fatorial é 24\n"
          ]
        }
      ]
    },
    {
      "cell_type": "code",
      "source": [
        "# Somar idades\n",
        "idades = [15, 46, 75, 34, 23]\n",
        "total = 0\n",
        "\n",
        "for i in idades:\n",
        "  total = total + i\n",
        "\n",
        "print(total)"
      ],
      "metadata": {
        "colab": {
          "base_uri": "https://localhost:8080/"
        },
        "id": "LbcBIizuItNR",
        "outputId": "479a7b62-b033-4a62-9ad1-bbf21560b099"
      },
      "execution_count": 11,
      "outputs": [
        {
          "output_type": "stream",
          "name": "stdout",
          "text": [
            "193\n"
          ]
        }
      ]
    },
    {
      "cell_type": "code",
      "source": [
        "poupanca = 100\n",
        "resultado = 100 * 1.10 ** 7\n",
        "\n",
        "print(\"Eu comecei com $\" + str(poupanca) + \" e agora eu tenho $\" + str(resultado) + \"!\") # se a variável que precisar ser juntada a string for float ou int, ela deve ser convertida.\n",
        "# tipos de conversão str(), float() ou int()\n",
        "pi_string = \"3.1415926\"\n",
        "\n",
        "pi_float = float(pi_string)"
      ],
      "metadata": {
        "colab": {
          "base_uri": "https://localhost:8080/"
        },
        "id": "1ctKbBZWGd5T",
        "outputId": "22030d7f-3c2c-445d-fe13-4f001355d228"
      },
      "execution_count": 12,
      "outputs": [
        {
          "output_type": "stream",
          "name": "stdout",
          "text": [
            "Eu comecei com $100 e agora eu tenho $194.87171000000012!\n"
          ]
        }
      ]
    },
    {
      "cell_type": "code",
      "source": [
        "# Soma de valores booleanos\n",
        "var = False + True\n",
        "print(var)"
      ],
      "metadata": {
        "colab": {
          "base_uri": "https://localhost:8080/"
        },
        "id": "UUGB9fwqHrIZ",
        "outputId": "67951be4-bff9-435b-c087-4bdca3dca121"
      },
      "execution_count": 14,
      "outputs": [
        {
          "output_type": "stream",
          "name": "stdout",
          "text": [
            "1\n"
          ]
        }
      ]
    },
    {
      "cell_type": "markdown",
      "source": [
        "**Listas em Python**"
      ],
      "metadata": {
        "id": "GPYkHBnF64ke"
      }
    },
    {
      "cell_type": "code",
      "source": [
        "# listas em python\n",
        "# as listas podem abrigar diferentes tipos de dados. em uma lista pode ter string e int\n",
        "a = [1, 3, 4, 2]\n",
        "b = [[1, 2, 3], [4, 5, 7]]\n",
        "c = [1 + 2, \"a\" * 5, 3]\n",
        "print(a, b, c)"
      ],
      "metadata": {
        "colab": {
          "base_uri": "https://localhost:8080/"
        },
        "id": "aFtzcJ_PKFAq",
        "outputId": "ff168ab1-de0a-4e1c-e0ea-65d9e7581c6e"
      },
      "execution_count": 16,
      "outputs": [
        {
          "output_type": "stream",
          "name": "stdout",
          "text": [
            "[1, 3, 4, 2] [[1, 2, 3], [4, 5, 7]] [3, 'aaaaa', 3]\n"
          ]
        }
      ]
    },
    {
      "cell_type": "code",
      "source": [
        "# list slicing: pegar vários elementos de uma lista\n",
        "# https://www.geeksforgeeks.org/python-list-slicing/#:~:text=With%20this%20operator%2C%20one%20can,list%20from%20the%20existing%20list.&text=If%20Lst%20is%20a%20list,at%20a%20step%20size%20IndexJump.\n",
        "# https://algoritmosempython.com.br/cursos/programacao-python/strings/\n",
        "\n",
        "a = [1, 3, 4, 2]\n",
        "print(a[0::3]) # a[0::3] é igual a a[x:y:z] onde x = inicio, y = onde parar, z = salto (step), de quanto em quanto vc quer ir contando\n",
        "print(a[0:3:]) # mostra o intervalo, da posição 0 até a 2; a[inicio : final : intervalo] e não pega o final\n",
        "print(a[::2]) \n",
        "print(a[::-1])\n",
        "\n",
        "# somando indices de lista\n",
        "x = [\"a\", \"b\", \"c\", \"d\"]\n",
        "print(x[1] + x[3])"
      ],
      "metadata": {
        "colab": {
          "base_uri": "https://localhost:8080/"
        },
        "id": "fFF0r4OBLZKQ",
        "outputId": "6bc1c26e-edb7-46ed-a153-04c7195d4e6c"
      },
      "execution_count": 17,
      "outputs": [
        {
          "output_type": "stream",
          "name": "stdout",
          "text": [
            "[1, 2]\n",
            "[1, 3, 4]\n",
            "[1, 4]\n",
            "[2, 4, 3, 1]\n",
            "bd\n"
          ]
        }
      ]
    },
    {
      "cell_type": "markdown",
      "source": [
        "Como ficam os índices das listas do último para o primeiro:\n",
        "\n",
        "![Screenshot581.png](data:image/png;base64,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)"
      ],
      "metadata": {
        "id": "Vrecf-iCPJfo"
      }
    },
    {
      "cell_type": "code",
      "source": [
        "#manipulating lists\n",
        "x = [[\"a\", \"b\", \"c\"],\n",
        "     [\"d\", \"e\", \"f\"],\n",
        "     [\"g\", \"h\", \"i\"]]\n",
        "print(x[2][0])\n",
        "print(x[2][:2])\n",
        "\n",
        "a = [1, 3, 4, 2]\n",
        "print(a)\n",
        "del(a[1])\n",
        "print(a)"
      ],
      "metadata": {
        "colab": {
          "base_uri": "https://localhost:8080/"
        },
        "id": "0V8inVN2KVEl",
        "outputId": "969867fc-9e05-4e78-bfb7-9ee1bd8acf33"
      },
      "execution_count": 18,
      "outputs": [
        {
          "output_type": "stream",
          "name": "stdout",
          "text": [
            "g\n",
            "['g', 'h']\n",
            "[1, 3, 4, 2]\n",
            "[1, 4, 2]\n"
          ]
        }
      ]
    },
    {
      "cell_type": "markdown",
      "source": [
        "The ; sign is used to place commands on the same line. The following two code chunks are equivalent:\n",
        "\n",
        "* Same line\n",
        "\n",
        "command1; command2\n",
        "\n",
        "* Separate lines\n",
        "\n",
        "command1\n",
        "command2"
      ],
      "metadata": {
        "id": "2JQDwc9ViT_Y"
      }
    },
    {
      "cell_type": "code",
      "source": [
        "# se eu quero deletar uma posição, ou no caso abaixo, mais de uma posição, tem que tomar cuidado porque o index da posição muda.\n",
        "areas = [\"hallway\", 11.25, \"kitchen\", 18.0,\n",
        "        \"chill zone\", 20.0, \"bedroom\", 10.75,\n",
        "         \"bathroom\", 10.50, \"poolhouse\", 24.5,\n",
        "         \"garage\", 15.45]\n",
        "print(areas)\n",
        "# eu tenho que deletar as informações da poolhouse\n",
        "del(areas[-4:-2])\n",
        "print(areas)\n",
        "\n",
        "#se eu fizesse por exemplo assim\n",
        "areas_2 = [\"hallway\", 11.25, \"kitchen\", 18.0,\n",
        "        \"chill zone\", 20.0, \"bedroom\", 10.75,\n",
        "         \"bathroom\", 10.50, \"poolhouse\", 24.5,\n",
        "         \"garage\", 15.45]\n",
        "\n",
        "del(areas_2[10]); del(areas_2[11]) # dá erro porque ele primeiro apaga a posição 10. depois o valor da area da poolhouse muda de index (antes era 11 depois fica 10_2)\n",
        "print(areas_2)"
      ],
      "metadata": {
        "colab": {
          "base_uri": "https://localhost:8080/"
        },
        "id": "v_lgXysCihQY",
        "outputId": "e8941eb5-ae28-4119-d175-e8f1c3c35dc5"
      },
      "execution_count": 19,
      "outputs": [
        {
          "output_type": "stream",
          "name": "stdout",
          "text": [
            "['hallway', 11.25, 'kitchen', 18.0, 'chill zone', 20.0, 'bedroom', 10.75, 'bathroom', 10.5, 'poolhouse', 24.5, 'garage', 15.45]\n",
            "['hallway', 11.25, 'kitchen', 18.0, 'chill zone', 20.0, 'bedroom', 10.75, 'bathroom', 10.5, 'garage', 15.45]\n",
            "['hallway', 11.25, 'kitchen', 18.0, 'chill zone', 20.0, 'bedroom', 10.75, 'bathroom', 10.5, 24.5, 15.45]\n"
          ]
        }
      ]
    },
    {
      "cell_type": "code",
      "source": [
        "# se quiser copiar uma lista para outra variável (lista), então tem que usar list() ou intervalo [:] (pegar de tal posição até outra)\n",
        "# se uma lista receber a outra, elas sempre se referiram ao mesmo endereço de memória, por isso se eu mudar a lista B, a lista A tbm será alterada\n",
        "areas = [11.25, 18.0, 20.0, 10.75, 9.50]\n",
        "areas_copia = areas\n",
        "print(areas)\n",
        "print(areas_copia)\n",
        "areas_copia[0] = 1\n",
        "print(areas)\n",
        "print(areas_copia)"
      ],
      "metadata": {
        "colab": {
          "base_uri": "https://localhost:8080/"
        },
        "id": "inAWb3rb-b-M",
        "outputId": "f81e1bc9-f48e-4ca6-b580-97e94c30dd95"
      },
      "execution_count": 20,
      "outputs": [
        {
          "output_type": "stream",
          "name": "stdout",
          "text": [
            "[11.25, 18.0, 20.0, 10.75, 9.5]\n",
            "[11.25, 18.0, 20.0, 10.75, 9.5]\n",
            "[1, 18.0, 20.0, 10.75, 9.5]\n",
            "[1, 18.0, 20.0, 10.75, 9.5]\n"
          ]
        }
      ]
    },
    {
      "cell_type": "code",
      "source": [
        "# apagar elementos de uma lista \n",
        "# pode-se utilizar o del e o remove\n",
        "# o del você passa a posição (index) e o remove você passa o conteúdo do elemento\n",
        "x = [1, 2, 3, 4]\n",
        "print(x)\n",
        "del x[0]\n",
        "print(x)\n",
        "x.remove(4)\n",
        "print(x)"
      ],
      "metadata": {
        "colab": {
          "base_uri": "https://localhost:8080/"
        },
        "id": "-a62Yxn-qnU-",
        "outputId": "d9f986e5-31f8-4441-9050-442ca0a6d68f"
      },
      "execution_count": 21,
      "outputs": [
        {
          "output_type": "stream",
          "name": "stdout",
          "text": [
            "[1, 2, 3, 4]\n",
            "[2, 3, 4]\n",
            "[2, 3]\n"
          ]
        }
      ]
    },
    {
      "cell_type": "code",
      "source": [
        "#agora se eu usar o list() ou [:] e mudar B, A não será alterado\n",
        "areas = [11.25, 18.0, 20.0, 10.75, 9.50]\n",
        "areas_copia = areas[0:] # ou areas_copia = list(areas)\n",
        "print(areas)\n",
        "print(areas_copia)\n",
        "areas_copia[0] = 1\n",
        "print(areas)\n",
        "print(areas_copia)\n",
        "\n",
        "#### The difference between explicit and reference-based copies is subtle, \n",
        "#### but can be really important. Try to keep in mind how a list is stored in the computer's memory."
      ],
      "metadata": {
        "colab": {
          "base_uri": "https://localhost:8080/"
        },
        "id": "DwkubqCa_Nt3",
        "outputId": "d7ed35d3-60f5-476f-f127-b1312d704bb1"
      },
      "execution_count": 22,
      "outputs": [
        {
          "output_type": "stream",
          "name": "stdout",
          "text": [
            "[11.25, 18.0, 20.0, 10.75, 9.5]\n",
            "[11.25, 18.0, 20.0, 10.75, 9.5]\n",
            "[11.25, 18.0, 20.0, 10.75, 9.5]\n",
            "[1, 18.0, 20.0, 10.75, 9.5]\n"
          ]
        }
      ]
    },
    {
      "cell_type": "code",
      "source": [
        "# chamar ajuda no python para saber sobre uma função\n",
        "help(round)\n",
        "\n",
        "#achar a posição de um elemento em uma lista\n",
        "x = [\"a\", \"b\", \"c\", \"d\"]\n",
        "x.index('c')\n",
        "\n",
        "# para converter tipos de dados tem: int(), bool(), str() e float(). em geral para guardar o resultado de funções:\n",
        "# output = nome_funcao(input). exemplo:\n",
        "\n",
        "var1 = [1, 2, 3, 4]\n",
        "var2 = True\n",
        "\n",
        "print(type(var1))\n",
        "\n",
        "# print o tamanho da lista\n",
        "print(len(var1))\n",
        "\n",
        "out2 = int(var2)"
      ],
      "metadata": {
        "colab": {
          "base_uri": "https://localhost:8080/"
        },
        "id": "eRgzYTRXAx00",
        "outputId": "f4dc5ad2-d02d-40b2-8344-8fcb04418110"
      },
      "execution_count": 24,
      "outputs": [
        {
          "output_type": "stream",
          "name": "stdout",
          "text": [
            "Help on built-in function round in module builtins:\n",
            "\n",
            "round(number, ndigits=None)\n",
            "    Round a number to a given precision in decimal digits.\n",
            "    \n",
            "    The return value is an integer if ndigits is omitted or None.  Otherwise\n",
            "    the return value has the same type as the number.  ndigits may be negative.\n",
            "\n",
            "<class 'list'>\n",
            "4\n"
          ]
        }
      ]
    },
    {
      "cell_type": "code",
      "source": [
        "# Função sorted()\n",
        "help(sorted)\n",
        "\n",
        "first = [11.25, 18.0, 20.0]\n",
        "second = [10.75, 9.50]\n",
        "\n",
        "full = first + second\n",
        "\n",
        "full_sorted = sorted(full, reverse = True)\n",
        "\n",
        "print(full_sorted)"
      ],
      "metadata": {
        "colab": {
          "base_uri": "https://localhost:8080/"
        },
        "id": "vd4YcnlNGD6D",
        "outputId": "8a9791da-bb5b-4876-e34b-f9eb1100b5e9"
      },
      "execution_count": null,
      "outputs": [
        {
          "output_type": "stream",
          "name": "stdout",
          "text": [
            "Help on built-in function sorted in module builtins:\n",
            "\n",
            "sorted(iterable, /, *, key=None, reverse=False)\n",
            "    Return a new list containing all items from the iterable in ascending order.\n",
            "    \n",
            "    A custom key function can be supplied to customize the sort order, and the\n",
            "    reverse flag can be set to request the result in descending order.\n",
            "\n",
            "[20.0, 18.0, 11.25, 10.75, 9.5]\n"
          ]
        }
      ]
    },
    {
      "cell_type": "markdown",
      "source": [
        "Em Python, tudo é um objeto. Por isso, podemos chamar métodos a partir dos objetos, como por exemplo que eu fiz acima, x.index. index é um método"
      ],
      "metadata": {
        "id": "aSgGqGJSHDtS"
      }
    },
    {
      "cell_type": "code",
      "source": [
        "sister = \"Liz\"\n",
        "sister2 = sister.replace(\"z\", \"sa\") # strings são imutáveis, ou seja, pra modificar, tem que salvar em outra variável\n",
        "print(sister)\n",
        "print(sister2)"
      ],
      "metadata": {
        "colab": {
          "base_uri": "https://localhost:8080/"
        },
        "id": "-uoIeNRHHafU",
        "outputId": "5a530e32-38df-4d8a-f7c4-c71da92fc8c4"
      },
      "execution_count": null,
      "outputs": [
        {
          "output_type": "stream",
          "name": "stdout",
          "text": [
            "Liz\n",
            "Lisa\n"
          ]
        }
      ]
    },
    {
      "cell_type": "code",
      "source": [
        "# MÉTODOS NO PYTHON. EXEMPLO:\n",
        "\n",
        "place = \"poolhouse\"\n",
        "\n",
        "# Use upper() on place: place_up\n",
        "place_up = place.upper()\n",
        "\n",
        "# Print out place and place_up\n",
        "print(place)\n",
        "print(place_up)\n",
        "\n",
        "# Print out the number of o's in place\n",
        "print(place.count('o'))\n",
        "\n"
      ],
      "metadata": {
        "id": "5qORBG0SKAwO"
      },
      "execution_count": null,
      "outputs": []
    },
    {
      "cell_type": "code",
      "source": [
        "# metódos que podem ser usados com listas, exemplo: append e reverse\n",
        "\n",
        "areas = [11.25, 18.0, 20.0, 10.75, 9.50]\n",
        "\n",
        "areas.append(24.5)\n",
        "areas.append(15.45)\n",
        "\n",
        "print(areas)\n",
        "\n",
        "areas.reverse()\n",
        "\n",
        "print(areas)"
      ],
      "metadata": {
        "colab": {
          "base_uri": "https://localhost:8080/"
        },
        "id": "mY2hv-RHK-9M",
        "outputId": "6e6a7b74-bd1c-4721-e1aa-a7d593e68b10"
      },
      "execution_count": null,
      "outputs": [
        {
          "output_type": "stream",
          "name": "stdout",
          "text": [
            "[11.25, 18.0, 20.0, 10.75, 9.5, 24.5, 15.45]\n",
            "[15.45, 24.5, 9.5, 10.75, 20.0, 18.0, 11.25]\n"
          ]
        }
      ]
    },
    {
      "cell_type": "markdown",
      "source": [
        "**numpy type coercion** = quando vc tentar fazer algo com um numpy array que tem valores de tipos diferentes. por isso, ele converte os tipos diferentes para ficar homogêneo"
      ],
      "metadata": {
        "id": "4BGG6Ptfm8D-"
      }
    },
    {
      "cell_type": "code",
      "source": [
        "# No numpy, True é convertido pra 1 e False para 0, então:\n",
        "import numpy as np\n",
        "\n",
        "print(np.array([True, 1, 2]) + np.array([3, 4, False])) # é igual a np.array([1, 1, 2]) + np.array([3, 4, 0])"
      ],
      "metadata": {
        "colab": {
          "base_uri": "https://localhost:8080/"
        },
        "id": "xxG3AunzoA6x",
        "outputId": "dd4ff974-9e7e-44ba-89b3-0c1bef19b7a4"
      },
      "execution_count": null,
      "outputs": [
        {
          "output_type": "stream",
          "name": "stdout",
          "text": [
            "[4 5 2]\n"
          ]
        }
      ]
    },
    {
      "cell_type": "markdown",
      "source": [
        "**subsetting** = using the square bracket notation on lists or arrays"
      ],
      "metadata": {
        "id": "Ak4I1lAiowdr"
      }
    }
  ]
}